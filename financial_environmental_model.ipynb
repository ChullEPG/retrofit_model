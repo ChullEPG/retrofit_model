{
 "cells": [
  {
   "cell_type": "markdown",
   "id": "e1eaa767-1499-4fc2-9a5e-3a71ac44e43a",
   "metadata": {},
   "source": [
    "# TO-DO: \n",
    "### Amortization Schedule -- make recurring loans a thing?. i.e. once lifetime of battery is up (mod lifetime battery), restart loan? \n",
    " \n",
    "### Rejig capital and finance costs (loan is not part of costs)\n",
    "### Make sensitivity sliders?\n",
    "### Grid Impact"
   ]
  },
  {
   "cell_type": "markdown",
   "id": "a4c37a14-d0fc-4a5c-8d76-de0f0e6f0087",
   "metadata": {},
   "source": [
    "# Notes \n",
    "\n",
    "We are aiming to hit a certain mileage at a certain weight + motor specs\n",
    "\n",
    "if we have an equation that turns kWh into mileage, we could easily ask to input mileage \n",
    "and give 'kWh needed' as an output\n",
    "\n",
    "in this equation would go the cars physical specs + motor specs, which would determine the vehicle's\n",
    "efficiency (city & hwy)\n",
    "\n",
    "we could ask for efficiency as input, and then output kWh needed, \n",
    "or we could ask for physical specs and output efficiencies, along with mileage, and have 'kWh needed' output\n",
    "\n",
    "input mileage\n",
    "input weight\n",
    "determines kwh needed\n",
    "determines kwh\n",
    "detremines\n",
    "\n",
    "\n",
    "Sliding graph where I slide kWh and it adjusts the cost of the retrofit\n",
    "\n",
    "Interacts with a graph that adjusts the projected timeline (ie payback period) based on the cost of the retrofit\n",
    "\n",
    "# To-Do\n",
    "\n",
    "Figure out how to calculate the vehicle efficiencies based on Vincent's work, or like how far it can go for a certain kWh, and then make sliding graphs (using sample vehicle specs as fixed values) for desired mileage to kWh and cost\n"
   ]
  },
  {
   "cell_type": "code",
   "execution_count": 486,
   "id": "39df35cf-151d-4593-9be3-13e76a8e6c63",
   "metadata": {},
   "outputs": [],
   "source": [
    "import pandas as pd\n",
    "import numpy as np\n",
    "import numpy_financial as npf\n",
    "import matplotlib.pyplot as plt\n",
    "import seaborn as sns"
   ]
  },
  {
   "cell_type": "markdown",
   "id": "d66d06ef-7a3f-49de-9ea5-5ee87620223d",
   "metadata": {},
   "source": [
    "## Market Inputs (all in $USD unless otherwise noted)"
   ]
  },
  {
   "cell_type": "code",
   "execution_count": 452,
   "id": "995fe83a-7c8b-40ab-878e-7b2b305fb91f",
   "metadata": {},
   "outputs": [],
   "source": [
    "years = np.arange(0,10) # years modeled\n",
    "\n",
    "exch_rate = 15.79 #R15.79 to $1.00\n",
    "\n",
    "price_diesel = 1.19 \n",
    "price_electricity = 0.14 \n",
    "price_charging = 0.30\n",
    "\n",
    "mb_purchase_cost = 800000 / exch_rate \n",
    "cost_refurbish = 400000 / exch_rate\n",
    "\n",
    "cost_opportunity_charging = 0\n",
    "cost_carbon = 0  \n",
    "cost_carbon_GR = 0.00 # %\n",
    "\n",
    "\n",
    "## Loan Inputs\n",
    "\n",
    "rate_interest = 0.225 # Avg Rate from Integrate Capital Report, range of 14.5 to 26.75 (vincent suggests 28%?) \n",
    "loan_lifetime = 4\n",
    "payments_per_year = 4"
   ]
  },
  {
   "cell_type": "markdown",
   "id": "0e818533-13d6-42eb-bbb1-7150e5ae209c",
   "metadata": {},
   "source": [
    "## Vehicle Inputs"
   ]
  },
  {
   "cell_type": "code",
   "execution_count": 453,
   "id": "5a455a41-ac3e-4a5b-92e0-b9fcd5c1199a",
   "metadata": {},
   "outputs": [],
   "source": [
    "FE_hwy_EV, FE_urban_EV = 5.5, 4 #km/kWh\n",
    "\n",
    "FE_hwy_ICE, FE_urban_ICE = 10, 12 #L/100km\n",
    "\n",
    "km_morning = km_evening = 225 # km\n",
    "km_daily = km_morning + km_evening\n",
    "days_worked_driver = 320 #days/yr\n",
    "km_annual = days_worked_driver * km_daily \n",
    " \n",
    "perc_miles_city = 0.80 # %\n",
    "\n",
    "cost_insurance_EV = cost_insurance_ICE = 200 # $/yr\n",
    "\n",
    "cost_taxes_fees_EV = cost_taxes_fees_ICE = 10 # $/yr\n",
    "\n",
    "cost_maintenance_EV = cost_maintenance_ICE = 3500 #$/yr\n",
    "\n",
    "expected_ownership_EV, expected_ownership_ICE = 10, 4 #yrs\n",
    "\n",
    "lifetime_retrofit = 10 # yrs\n",
    "hrs_daily_charging = 4 #hrs"
   ]
  },
  {
   "cell_type": "markdown",
   "id": "98715485-d84d-465e-ba6f-ec4588219594",
   "metadata": {},
   "source": [
    "# Retrofit Costs ($USD)"
   ]
  },
  {
   "cell_type": "markdown",
   "id": "70ad938c-17d0-4b36-8cdf-52df0a7eba25",
   "metadata": {},
   "source": [
    "#### Battery Pack"
   ]
  },
  {
   "cell_type": "code",
   "execution_count": 490,
   "id": "a95096a8-205f-4c5f-9296-ff34d6917c14",
   "metadata": {},
   "outputs": [
    {
     "name": "stdout",
     "output_type": "stream",
     "text": [
      "Energy (kWh): 86.2316 \n",
      " Cost (USD): $16,603.60 \n",
      " Weight (kg): 533.0 \n",
      " Size (L): 242.9388\n"
     ]
    }
   ],
   "source": [
    "amp_hrs = 206\n",
    "\n",
    "if amp_hrs == 228:\n",
    "#Unit Size \n",
    "    length_cell, width_cell, depth_cell = 207.1, 174.6, 53.8 #mm\n",
    "    weight_cell = 4.2 # kg\n",
    "    voltage_cell = 3.65\n",
    "elif amp_hrs == 206:\n",
    "    length_cell, width_cell, depth_cell = 200, 174.0, 53.7 #mm\n",
    "    weight_cell = 4.1 # kg \n",
    "    voltage_cell = 3.22\n",
    "#Unit Energy\n",
    "\n",
    "kWh = voltage_cell * amp_hrs / 10**3 # kWh\n",
    "\n",
    "#Unit cost\n",
    "amp_cost = 0.62 # $/Ah\n",
    "cost_cell = amp_hrs * amp_cost\n",
    "num_cells = 130 # fixing num_cells instead of energy needed\n",
    "\n",
    "volume_cell = length_cell * width_cell * depth_cell / 10**6 # L\n",
    "\n",
    "#Pack specs\n",
    "weight_pack = weight_cell * num_cells #kg\n",
    "volume_pack = volume_cell * num_cells #L\n",
    "kwh_pack = kWh * num_cells #kWh\n",
    "cost_pack = cost_cell * num_cells #$\n",
    "\n",
    "print(\"Energy (kWh):\", kwh_pack, \"\\n\", \"Cost (USD):\", \"${:,.2f}\".format(cost_pack), \"\\n\", \n",
    "      \"Weight (kg):\", weight_pack, \"\\n\", \"Size (L):\", vol_pack)"
   ]
  },
  {
   "cell_type": "markdown",
   "id": "256e4102-9163-4c23-8a05-62a50cc81956",
   "metadata": {},
   "source": [
    "#### E-Motor, Drive, Charger"
   ]
  },
  {
   "cell_type": "code",
   "execution_count": 455,
   "id": "e62e6b1e-c044-4d78-ad3a-1c9612a9071b",
   "metadata": {},
   "outputs": [],
   "source": [
    "\n",
    "weight_motor = 68 #kg\n",
    "torque_motor = 220 #Nm\n",
    "power_motor = 82 #kW\n",
    "speed_motor = 3580 #rpm\n",
    "phase_rms_current_motor = 218 # A\n",
    "voltageDC_motor = 400 #V\n",
    "elec_freq_motor = 298 #Hz\n",
    "power_factor_motor = 0.72\n",
    "\n",
    "#Dimensions\n",
    "rad_motor, depth_motor = 165, 336 # mm\n",
    "vol_motor = depth_motor * np.pi * rad_motor**2  # L\n",
    "\n",
    "cost_motor = 5000"
   ]
  },
  {
   "cell_type": "markdown",
   "id": "da32b93d-550f-47d5-aa01-165f7949be7c",
   "metadata": {},
   "source": [
    "#### Drive, Charger"
   ]
  },
  {
   "cell_type": "code",
   "execution_count": 456,
   "id": "82cc0c42-e08d-43df-9a28-ffface730276",
   "metadata": {},
   "outputs": [],
   "source": [
    "cost_drive = 5100\n",
    "cost_charger = 3000"
   ]
  },
  {
   "cell_type": "markdown",
   "id": "82db773e-60ef-42b7-85b8-d879f3d4e96b",
   "metadata": {},
   "source": [
    "#### Controls"
   ]
  },
  {
   "cell_type": "code",
   "execution_count": 457,
   "id": "edb42ba0-b9b4-479e-a116-bac56c4cb8f0",
   "metadata": {},
   "outputs": [],
   "source": [
    "cost_masterboard, cost_slaveboard = 250, 200"
   ]
  },
  {
   "cell_type": "markdown",
   "id": "69f92303-d789-484c-b72d-f903d1cf63d8",
   "metadata": {},
   "source": [
    "#### Other"
   ]
  },
  {
   "cell_type": "code",
   "execution_count": 458,
   "id": "2d1e19f4-e32b-4533-afaa-6f44eefd1579",
   "metadata": {},
   "outputs": [],
   "source": [
    "cost_telematics = 200\n",
    "cost_misc = 50 # wiring, etc\n",
    "cost_other = cost_telematics + cost_misc"
   ]
  },
  {
   "cell_type": "markdown",
   "id": "5f28a42e-24ad-4953-944d-3f2e287f2594",
   "metadata": {},
   "source": [
    "#### Cost of Labor"
   ]
  },
  {
   "cell_type": "code",
   "execution_count": 459,
   "id": "9f88ee15-8b2b-4b5b-99b1-aff12b4dff3c",
   "metadata": {},
   "outputs": [],
   "source": [
    "hours_retrofit = 20 #hrs\n",
    "wage_retrofit = 50 # $/hr\n",
    "cost_retrofit_labor = hours_retrofit * wage_retrofit"
   ]
  },
  {
   "cell_type": "markdown",
   "id": "8337b196-9858-4b84-be77-092a8fa913ca",
   "metadata": {},
   "source": [
    "### Total"
   ]
  },
  {
   "cell_type": "code",
   "execution_count": 460,
   "id": "47ed68b6-37cf-4c0c-99c5-05f8f8a846cf",
   "metadata": {},
   "outputs": [],
   "source": [
    "cost_retrofit = cost_pack + cost_motor + cost_drive + cost_charger + cost_other + cost_retrofit_labor"
   ]
  },
  {
   "cell_type": "markdown",
   "id": "e03e6218-62fd-4b64-a2f4-95e6065ed71f",
   "metadata": {},
   "source": [
    "## Fuel Cost"
   ]
  },
  {
   "cell_type": "code",
   "execution_count": 475,
   "id": "6296c26e-539d-475c-b667-173dcba4cd57",
   "metadata": {},
   "outputs": [],
   "source": [
    "# Assuming fuel cost same each year\n",
    "cost_fuel_EV = np.full(len(years), price_charging * km_annual * (perc_miles_city * (1/FE_urban_EV) + (1 - perc_miles_city)  * (1/FE_hwy_EV))) # same fuel cost every year \n",
    "cost_fuel_EV[0] = 0"
   ]
  },
  {
   "cell_type": "code",
   "execution_count": 476,
   "id": "572b2b6a-6986-486f-b92f-49baa3c85cd9",
   "metadata": {},
   "outputs": [],
   "source": [
    "cost_fuel_ICE = np.full(len(years), price_diesel * km_annual * ((perc_miles_city * (FE_urban_ICE/100)  + (1 - perc_miles_city) * (FE_hwy_ICE/100))))\n",
    "cost_fuel_ICE[0] = 0 # 0 in year 0 "
   ]
  },
  {
   "cell_type": "markdown",
   "id": "bd29f983-3edc-4df5-afc4-3e30982225cf",
   "metadata": {},
   "source": [
    "## Operating Cost"
   ]
  },
  {
   "cell_type": "code",
   "execution_count": 477,
   "id": "d2f1910b-c879-4492-b1fe-bd0747ec2e7d",
   "metadata": {},
   "outputs": [],
   "source": [
    "cost_operating_EV = np.full(len(years), cost_insurance_EV + cost_maintenance_EV + cost_taxes_fees_EV )\n",
    "cost_operating_EV[0] = 0"
   ]
  },
  {
   "cell_type": "code",
   "execution_count": 478,
   "id": "437e6082-8cac-4a03-9a94-c6ddc7c97dce",
   "metadata": {},
   "outputs": [],
   "source": [
    "cost_operating_ICE = np.full(len(years), cost_insurance_ICE + cost_maintenance_ICE + cost_taxes_fees_ICE)\n",
    "cost_operating_ICE[0] = 0"
   ]
  },
  {
   "cell_type": "markdown",
   "id": "836ff125-f62d-40b7-b970-1449ea8df0c0",
   "metadata": {},
   "source": [
    "## Capital And Financing Cost"
   ]
  },
  {
   "cell_type": "code",
   "execution_count": 465,
   "id": "d1bfe691-89e9-49c4-aa16-8e70e31666f5",
   "metadata": {},
   "outputs": [],
   "source": [
    "# function code sourced from here: https://www.christopheryee.org/blog/build-a-loan-amortization-schedule-with-python/\n",
    "def amortization_schedule(rate_int, loan_amount, years): \n",
    "\n",
    "  ##### PARAMETERS #####  \n",
    "    loan_amount = -loan_amount\n",
    "    rate_interest = rate_int / 12\n",
    "    periods = years * 12 # monthly payback\n",
    "    n_periods = np.arange(periods) + 1\n",
    "  \n",
    "  ##### BUILD AMORTIZATION SCHEDULE #####\n",
    "  # Interest \n",
    "    interest_monthly = npf.ipmt(rate_interest, n_periods, periods, loan_amount)\n",
    "  \n",
    "  # Principal \n",
    "    principal_monthly = npf.ppmt(rate_interest, n_periods, periods, loan_amount)\n",
    "  \n",
    "  # JOIN DATA\n",
    "    df_initialize = list(zip(n_periods, interest_monthly, principal_monthly))\n",
    "    df = pd.DataFrame(df_initialize, columns=['Period','Interest','Principal'])\n",
    "  \n",
    "  # Monthly Loan Payment\n",
    "    df['Payment'] = df['Interest'] + df['Principal']\n",
    "  \n",
    "  # Cumsum Loan Payments\n",
    "    df['Balance'] = df['Payment'].cumsum()\n",
    "  \n",
    "  # Reverse vals to pay down balance\n",
    "    df.Balance = df.Balance.values[::-1]\n",
    "  \n",
    "    return(df)"
   ]
  },
  {
   "cell_type": "code",
   "execution_count": 466,
   "id": "504c3ee5-2c07-4cf1-8e1e-d58bb2d8b846",
   "metadata": {},
   "outputs": [],
   "source": [
    "amortization_schedule_retrofit = amortization_schedule(rate_interest, cost_retrofit, loan_lifetime)\n",
    "amortization_schedule_refurbish = amortization_schedule(rate_interest, cost_refurbish, loan_lifetime)"
   ]
  },
  {
   "cell_type": "code",
   "execution_count": 491,
   "id": "02776e33-8fea-4373-9bf9-692d440ff848",
   "metadata": {},
   "outputs": [
    {
     "name": "stdout",
     "output_type": "stream",
     "text": [
      "Refurbishment annual loan payment ($): 9660.24 \n",
      " Retrofit annual loan payment ($): 11803.78\n"
     ]
    }
   ],
   "source": [
    "annual_loan_payment_retrofit = np.round(amortization_schedule_retrofit.iloc[0:12].sum()['Payment'],2) #is the same for \n",
    "annual_loan_payment_refurbish = np.round(amortization_schedule_refurbish.iloc[0:12].sum()['Payment'],2) #is the \n",
    "print(\"Refurbishment annual loan payment ($):\", annual_loan_payment_refurbish,\"\\n\", \"Retrofit annual loan payment ($):\", annual_loan_payment_retrofit)"
   ]
  },
  {
   "cell_type": "code",
   "execution_count": 468,
   "id": "23ac28df-c662-4ecc-a1bb-12b3c12440da",
   "metadata": {},
   "outputs": [
    {
     "data": {
      "text/plain": [
       "(array([-30953.6      ,  11803.7780393,  11803.7780393,  11803.7780393,\n",
       "         11803.7780393,      0.       ,      0.       ,      0.       ,\n",
       "             0.       ,      0.       ]),\n",
       " array([-25332.48891704,   9660.23584849,   9660.23584849,   9660.23584849,\n",
       "          9660.23584849,      0.        ,      0.        ,      0.        ,\n",
       "             0.        ,      0.        ]))"
      ]
     },
     "execution_count": 468,
     "metadata": {},
     "output_type": "execute_result"
    }
   ],
   "source": [
    "#Retrofit Loan Payback Schedule\n",
    "cap_fin_cost_EV = np.zeros(len(years))\n",
    "cap_fin_cost_EV[0] = -cost_retrofit #negative because the loan is a cash inflow\n",
    "cap_fin_cost_EV[1:loan_lifetime+1] = annual_loan_payment_retrofit\n",
    "\n",
    "#Refurbishment Loan Payback Schedule Schedule\n",
    "cap_fin_cost_ICE = np.zeros(len(years))\n",
    "cap_fin_cost_ICE[0] = -cost_refurbish #negative because the loan is a cash inflow\n",
    "cap_fin_cost_ICE[1:loan_lifetime+1] = annual_loan_payment_refurbish\n",
    "\n",
    "cap_fin_cost_EV, cap_fin_cost_ICE"
   ]
  },
  {
   "cell_type": "markdown",
   "id": "0033e2fe-df54-4b9d-8170-50cce0967978",
   "metadata": {},
   "source": [
    "# Total Costs"
   ]
  },
  {
   "cell_type": "markdown",
   "id": "2ef3226d-8c2c-4a83-8b75-ca428f21b816",
   "metadata": {},
   "source": [
    "#### Total Annual Costs "
   ]
  },
  {
   "cell_type": "code",
   "execution_count": 469,
   "id": "89785b23-b216-4df0-b4b8-6cc7754e4975",
   "metadata": {},
   "outputs": [
    {
     "name": "stdout",
     "output_type": "stream",
     "text": [
      "[-30953.6         25724.68713021  25724.68713021  25724.68713021\n",
      "  25724.68713021  13920.90909091  13920.90909091  13920.90909091\n",
      "  13920.90909091  13920.90909091] \n",
      " [-25332.48891704  33247.99584849  33247.99584849  33247.99584849\n",
      "  33247.99584849  23587.76        23587.76        23587.76\n",
      "  23587.76        23587.76      ]\n"
     ]
    }
   ],
   "source": [
    "cost_annual_EV = cost_operating_EV + cost_fuel_EV + cap_fin_cost_EV \n",
    "cost_annual_ICE = cost_operating_ICE + cost_fuel_ICE + cap_fin_cost_ICE \n",
    "print(cost_annual_EV,\"\\n\",cost_annual_ICE) #sanity checks"
   ]
  },
  {
   "cell_type": "markdown",
   "id": "d0ea9c65-df43-4535-879e-e171bc20ed01",
   "metadata": {},
   "source": [
    "#### Discount Factor"
   ]
  },
  {
   "cell_type": "code",
   "execution_count": 470,
   "id": "4d996dff-44f5-495b-a86b-a3d143b2d91e",
   "metadata": {},
   "outputs": [],
   "source": [
    "rate_discount = 0.08 \n",
    "factor_discount = np.empty(len(years))\n",
    "for t in years:\n",
    "    factor_discount[t] = 1/(1 * (1 + rate_discount)**t)"
   ]
  },
  {
   "cell_type": "markdown",
   "id": "d7ee7911-4c97-4e2c-be56-7e157d72f309",
   "metadata": {},
   "source": [
    "#### Discounted Costs"
   ]
  },
  {
   "cell_type": "code",
   "execution_count": 471,
   "id": "8cf52b0e-0bee-4706-ad49-3ffcb54144d1",
   "metadata": {},
   "outputs": [
    {
     "name": "stdout",
     "output_type": "stream",
     "text": [
      "[-30953.6         23819.1547502   22054.77291685  20421.08603412\n",
      "  18908.41299456   9474.33681471   8772.53408769   8122.71674786\n",
      "   7521.0340258    6963.92039426] \n",
      " [-25332.48891704  30785.18134119  28504.79753814  26393.33105384\n",
      "  24438.26949429  16053.43311166  14864.28991821  13763.23140575\n",
      "  12743.7327831   11799.75257694]\n"
     ]
    }
   ],
   "source": [
    "cost_annual_discounted_EV = np.empty(len(years))\n",
    "cost_annual_discounted_ICE = np.empty(len(years))\n",
    "for t in years:\n",
    "    cost_annual_discounted_EV[t], cost_annual_discounted_ICE[t] = cost_annual_EV[t] * factor_discount[t], cost_annual_ICE[t] * factor_discount[t]\n",
    "\n",
    "print(cost_annual_discounted_EV,\"\\n\",cost_annual_discounted_ICE)"
   ]
  },
  {
   "cell_type": "code",
   "execution_count": 472,
   "id": "38d3c6bf-ce3f-47a9-a582-f97a1a827c90",
   "metadata": {},
   "outputs": [
    {
     "data": {
      "image/png": "[encoded data removed]",
      "text/plain": [
       "<Figure size 432x288 with 1 Axes>"
      ]
     },
     "metadata": {
      "needs_background": "light"
     },
     "output_type": "display_data"
    }
   ],
   "source": [
    "plt.title(\"Annual Discounted Costs ($) \\n Retrofitted EV vs Refurbishmed ICE Vehicle\", size = 18)\n",
    "plt.xlabel(\"Years\")\n",
    "plt.ylabel(\"Cost ($)\")\n",
    "plt.plot(years, cost_annual_discounted_EV, color = 'blue', label = 'EV', marker = 'o')\n",
    "plt.plot(years, cost_annual_discounted_ICE, color = 'red', label = 'ICE', marker = 'o')\n",
    "plt.legend()\n",
    "plt.show()"
   ]
  },
  {
   "cell_type": "code",
   "execution_count": 473,
   "id": "52b076b9-4cbf-4639-b274-a73c43b0b3ed",
   "metadata": {},
   "outputs": [
    {
     "data": {
      "image/png": "[encoded data removed]",
      "text/plain": [
       "<Figure size 432x288 with 1 Axes>"
      ]
     },
     "metadata": {
      "needs_background": "light"
     },
     "output_type": "display_data"
    }
   ],
   "source": [
    "plt.title(\"Cumulative Costs ($), \\n Retrofitted EV vs Refurbished ICE Vehicle\", size = 18)\n",
    "plt.xlabel(\"Years\")\n",
    "plt.ylabel(\"Cost ($)\")\n",
    "plt.plot(years, np.cumsum(cost_annual_discounted_EV), color = 'blue', label = 'EV', marker = 'o')\n",
    "plt.plot(years, np.cumsum(cost_annual_discounted_ICE), color = 'red', label = 'ICE', marker = 'o')\n",
    "plt.legend()\n",
    "plt.show()"
   ]
  },
  {
   "cell_type": "markdown",
   "id": "646badf6-68e7-4438-a433-08f9a2fd5c8e",
   "metadata": {},
   "source": [
    "## Test Interactive Graph"
   ]
  },
  {
   "cell_type": "code",
   "execution_count": 474,
   "id": "128d4e17-ae8c-47fe-823d-379dd23d2a80",
   "metadata": {},
   "outputs": [],
   "source": [
    "from ipywidgets import interact, interactive, fixed, interact_manual\n",
    "import ipywidgets as widgets"
   ]
  },
  {
   "cell_type": "code",
   "execution_count": 493,
   "id": "dbcce149-85c4-4b02-b5cc-10f156fa68b2",
   "metadata": {},
   "outputs": [
    {
     "data": {
      "application/vnd.jupyter.widget-view+json": {
       "model_id": "af2e048237ad41d094e426bd2f234cce",
       "version_major": 2,
       "version_minor": 0
      },
      "text/plain": [
       "interactive(children=(IntSlider(value=3, description='x', max=9, min=-3), Output()), _dom_classes=('widget-int…"
      ]
     },
     "metadata": {},
     "output_type": "display_data"
    },
    {
     "data": {
      "text/plain": [
       "<function __main__.myfunc(x)>"
      ]
     },
     "execution_count": 493,
     "metadata": {},
     "output_type": "execute_result"
    }
   ],
   "source": [
    "def myfunc(x):\n",
    "    plt.plot(np.arange(0,10), x * np.arange(0,10))\n",
    "    plt.ylim(-30,30)\n",
    "interact(myfunc, x = 3)"
   ]
  },
  {
   "cell_type": "code",
   "execution_count": null,
   "id": "15524430-9b45-4b56-9675-67ef630298fd",
   "metadata": {},
   "outputs": [],
   "source": []
  }
 ],
 "metadata": {
  "kernelspec": {
   "display_name": "Python 3",
   "language": "python",
   "name": "python3"
  },
  "language_info": {
   "codemirror_mode": {
    "name": "ipython",
    "version": 3
   },
   "file_extension": ".py",
   "mimetype": "text/x-python",
   "name": "python",
   "nbconvert_exporter": "python",
   "pygments_lexer": "ipython3",
   "version": "3.8.8"
  }
 },
 "nbformat": 4,
 "nbformat_minor": 5
}
